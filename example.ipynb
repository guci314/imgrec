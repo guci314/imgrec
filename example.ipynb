{
 "cells": [
  {
   "cell_type": "code",
   "execution_count": null,
   "metadata": {
    "collapsed": false
   },
   "outputs": [],
   "source": [
    "from PIL import Image\n",
    "import pytesseract"
   ]
  },
  {
   "cell_type": "code",
   "execution_count": 3,
   "metadata": {
    "collapsed": false
   },
   "outputs": [
    {
     "name": "stdout",
     "output_type": "stream",
     "text": [
      "This is a lot of 12 point text to test the\n",
      "ocr code and see if it works on all types\n",
      "of file format.\n",
      "\n",
      "The quick brown dog jumped over the\n",
      "lazy fox. The quick brown dog jumped\n",
      "over the lazy fox. The quick brown dog\n",
      "jumped over the lazy fox. The quick\n",
      "brown dog jumped over the lazy fox.\n"
     ]
    }
   ],
   "source": [
    "image = Image.open('./img/test.png')\n",
    "vcode = pytesseract.image_to_string(image)\n",
    "print vcode"
   ]
  },
  {
   "cell_type": "code",
   "execution_count": 18,
   "metadata": {
    "collapsed": false
   },
   "outputs": [
    {
     "name": "stdout",
     "output_type": "stream",
     "text": [
      "经历不同哪来的感同身受 每个人都有自己\n",
      "的观念, 人各有别， 女口果每个人的话你都耿\n",
      "耿于怀， 你这一生都会被困住。 这世上多的\n",
      "是伤口撒盐的畜生而不是救死扶伤的医生，\n",
      "别指望有人能心疼你为你抗下所有, 你要做\n",
      "的只不过是迎着冷眼和嘲笑一直走下去, 披\n",
      "荆斩棘， 痛苦自己扛, 眼泪自己尝。\n",
      "\n",
      "生活不过一杯酒， 醉完了还有路要走。\n"
     ]
    }
   ],
   "source": [
    "#20150607105303_kcE3t.jpeg\n",
    "image = Image.open('./img/20150607105303_kcE3t.jpeg')\n",
    "text = pytesseract.image_to_string(image,lang=\"chi_sim\")\n",
    "print text"
   ]
  },
  {
   "cell_type": "code",
   "execution_count": 15,
   "metadata": {
    "collapsed": false
   },
   "outputs": [
    {
     "name": "stdout",
     "output_type": "stream",
     "text": [
      "> \u001b[1;32m/home/mint/hd/anaconda2/lib/python2.7/site-packages/pytesseract/pytesseract.py\u001b[0m(172)\u001b[0;36mimage_to_string\u001b[1;34m()\u001b[0m\n",
      "\u001b[1;32m    171 \u001b[1;33m        \u001b[0mcleanup\u001b[0m\u001b[1;33m(\u001b[0m\u001b[0minput_file_name\u001b[0m\u001b[1;33m)\u001b[0m\u001b[1;33m\u001b[0m\u001b[0m\n",
      "\u001b[0m\u001b[1;32m--> 172 \u001b[1;33m        \u001b[0mcleanup\u001b[0m\u001b[1;33m(\u001b[0m\u001b[0moutput_file_name\u001b[0m\u001b[1;33m)\u001b[0m\u001b[1;33m\u001b[0m\u001b[0m\n",
      "\u001b[0m\u001b[1;32m    173 \u001b[1;33m\u001b[1;33m\u001b[0m\u001b[0m\n",
      "\u001b[0m\n",
      "ipdb> errors\n",
      "'Error opening data file /usr/share/tesseract-ocr/tessdata/chi-sim.traineddata'\n",
      "ipdb> error_string\n",
      "'Tesseract Open Source OCR Engine v3.03 with Leptonica\\nError opening data file /usr/share/tesseract-ocr/tessdata/chi-sim.traineddata\\nPlease make sure the TESSDATA_PREFIX environment variable is set to the parent directory of your \"tessdata\" directory.\\nFailed loading language \\'chi-sim\\'\\nTesseract couldn\\'t load any languages!\\nCould not initialize tesseract.\\n'\n",
      "ipdb> q\n"
     ]
    }
   ],
   "source": [
    "%debug"
   ]
  }
 ],
 "metadata": {
  "kernelspec": {
   "display_name": "Python 2",
   "language": "python",
   "name": "python2"
  },
  "language_info": {
   "codemirror_mode": {
    "name": "ipython",
    "version": 2
   },
   "file_extension": ".py",
   "mimetype": "text/x-python",
   "name": "python",
   "nbconvert_exporter": "python",
   "pygments_lexer": "ipython2",
   "version": "2.7.11"
  }
 },
 "nbformat": 4,
 "nbformat_minor": 0
}
